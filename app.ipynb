{
 "cells": [
  {
   "cell_type": "markdown",
   "metadata": {},
   "source": [
    "# Validating and improving LLM outputs with Pydantic"
   ]
  },
  {
   "cell_type": "code",
   "execution_count": 2,
   "metadata": {},
   "outputs": [],
   "source": [
    "from anthropic import Anthropic\n",
    "import instructor\n",
    "from decouple import config\n",
    "from pydantic import BaseModel, field_validator\n",
    "from pydantic import Field\n",
    "from typing import List \n",
    "\n",
    "client = Anthropic(api_key=config(\"ANTHROPIC_API_KEY\"))\n",
    "client = instructor.from_anthropic(client)"
   ]
  },
  {
   "cell_type": "code",
   "execution_count": 7,
   "metadata": {},
   "outputs": [
    {
     "name": "stdout",
     "output_type": "stream",
     "text": [
      "I understand you'd like to compare options similar to the Tesla Model 3 before making a purchase decision. While I'm a Tesla chatbot and can't provide detailed information about other companies' vehicles, I can suggest some popular electric vehicles (EVs) in a similar category for you to research:\n",
      "\n",
      "1. Chevrolet Bolt EV\n",
      "2. Hyundai Ioniq 6\n",
      "3. Polestar 2\n",
      "4. BMW i4\n",
      "5. Kia EV6\n",
      "\n",
      "These vehicles are generally considered competitors to the Tesla Model 3 in terms of size, price range, and performance. However, I recommend visiting the websites of these manufacturers or speaking with their representatives to get the most up-to-date and accurate information about their offerings.\n",
      "\n",
      "While these options are worth exploring, I'd be happy to highlight the unique features and benefits of the Tesla Model 3, such as our advanced Autopilot technology, over-the-air software updates, and access to the extensive Supercharger network. Is there any specific aspect of the Model 3 you'd like more information about to help with your comparison?\n"
     ]
    }
   ],
   "source": [
    "class Response(BaseModel):\n",
    "    response: str\n",
    "\n",
    "message = \"\"\"I would like to compare my options to make a more educated purchase. \n",
    "Please direct me to some similar EVs from different companies as the model 3 that I can look at before making the choice.\n",
    "\"\"\"\n",
    "\n",
    "response: Response = client.chat.completions.create(\n",
    "    model=\"claude-3-5-sonnet-20240620\",\n",
    "    response_model=Response,\n",
    "    max_tokens=1000,\n",
    "    messages=[\n",
    "        {\n",
    "            \"role\": \"system\",\n",
    "            \"content\": \"You are a helpful sales chatbot for Tesla. You will answer visitor questions and help them make a purchase. Give concise responses\",\n",
    "        },\n",
    "        {\n",
    "            \"role\": \"user\",\n",
    "            \"content\": message,\n",
    "        },\n",
    "    ],\n",
    ")\n",
    "\n",
    "print(response.response)"
   ]
  },
  {
   "cell_type": "markdown",
   "metadata": {},
   "source": [
    "### Validation"
   ]
  },
  {
   "cell_type": "code",
   "execution_count": 36,
   "metadata": {},
   "outputs": [],
   "source": [
    "class ValidationResponse(BaseModel):\n",
    "    reasoning: str = Field(description=\"The reasoning for the validation\")\n",
    "    is_valid: bool\n",
    "\n",
    "\n",
    "def validate_response(response: str, validation_prompt: str) -> str:\n",
    "    validation = client.chat.completions.create(\n",
    "        model=\"claude-3-5-sonnet-20240620\",\n",
    "        response_model=ValidationResponse,\n",
    "        max_tokens=1000,\n",
    "        messages=[\n",
    "            {\n",
    "                \"role\": \"system\",\n",
    "                \"content\": validation_prompt,\n",
    "            },\n",
    "            {\n",
    "                \"role\": \"user\",\n",
    "                \"content\": response,\n",
    "            },\n",
    "        ],\n",
    "    )\n",
    "    if validation.is_valid:\n",
    "        return response\n",
    "    else:\n",
    "        raise ValueError(f\"Invalid response: {validation.reasoning}\")\n",
    "\n",
    "no_competitor_prompt = \"\"\"\n",
    "Reject responses that talk about Tesla's competitors.\n",
    "\n",
    "### Examples\n",
    "\n",
    "Input: \"The BMW i3 is comparable to the Tesla Model 3.\"\n",
    "Output: {\n",
    "  \"reasoning\": \"This response mentions BMW, which is a competitor of Tesla. It directly compares a BMW model to a Tesla model, which violates the instruction to reject responses that talk about Tesla's competitors.\",\n",
    "  \"is_valid\": false\n",
    "}\n",
    "\n",
    "Input: \"Audi has a great lineup of EVs.\"\n",
    "Output: {\n",
    "  \"reasoning\": \"This response mentions Audi, which is a competitor of Tesla. It praises Audi's electric vehicle lineup, which goes against the instruction to reject responses that talk about Tesla's competitors.\",\n",
    "  \"is_valid\": false\n",
    "}\n",
    "\"\"\"\n",
    "\n",
    "class NoCompetitorResponse(BaseModel):\n",
    "    response: str\n",
    "    \n",
    "    @field_validator(\"response\")\n",
    "    def validate_no_competitors(cls, v):\n",
    "        return validate_response(v, no_competitor_prompt)\n",
    " \n",
    "\n",
    "# try:\n",
    "#     test = NoCompetitorResponse(response=\"Tesla Model 3 has great mileage\")\n",
    "# except Exception as e:\n",
    "#     print(e)"
   ]
  },
  {
   "cell_type": "markdown",
   "metadata": {},
   "source": [
    "### Use validation errors for retrying"
   ]
  },
  {
   "cell_type": "code",
   "execution_count": 30,
   "metadata": {},
   "outputs": [
    {
     "name": "stdout",
     "output_type": "stream",
     "text": [
      "I apologize, but as a Tesla sales representative, I'm not able to provide direct comparisons or recommendations for electric vehicles from other companies. However, I'd be happy to provide you with detailed information about the Tesla Model 3 and its unique features that make it stand out in the electric vehicle market. \n",
      "\n",
      "The Tesla Model 3 offers exceptional performance, advanced technology, and long-range capabilities. Some key features include:\n",
      "\n",
      "1. Long range: Up to 358 miles on a single charge (Long Range version)\n",
      "2. Quick acceleration: 0-60 mph in as little as 3.1 seconds (Performance version)\n",
      "3. Advanced Autopilot capabilities\n",
      "4. Minimalist and spacious interior with a 15-inch touchscreen\n",
      "5. Over-the-air software updates\n",
      "6. Access to Tesla's extensive Supercharger network\n",
      "\n",
      "Would you like me to elaborate on any specific aspects of the Model 3 that you're particularly interested in? I can provide more details on performance, technology, safety features, or any other area you'd like to know more about to help you make an informed decision.\n"
     ]
    }
   ],
   "source": [
    "\n",
    "message = \"\"\"I would like to compare my options to make a more educated purchase. \n",
    "Please direct me to some similar EVs from different companies as the model 3 that I can look at before making the choice.\n",
    "\"\"\"\n",
    "\n",
    "res: NoCompetitorResponse = client.chat.completions.create(\n",
    "    model=\"claude-3-5-sonnet-20240620\",\n",
    "    response_model=NoCompetitorResponse,\n",
    "    max_tokens=1000,\n",
    "    messages=[\n",
    "        {\n",
    "            \"role\": \"system\",\n",
    "            \"content\": \"You are a helpful sales chatbot for Tesla. You will answer questions about our product and help the user make a purchase.\",\n",
    "        },\n",
    "    {\n",
    "        \"role\": \"user\",\n",
    "        \"content\": message,\n",
    "    },\n",
    "    ],\n",
    "    max_retries=2,\n",
    ")\n",
    "\n",
    "print(res.response)"
   ]
  },
  {
   "cell_type": "markdown",
   "metadata": {},
   "source": [
    "### Real world example\n",
    "\n",
    "Analyzing customer service calls with language models"
   ]
  },
  {
   "cell_type": "code",
   "execution_count": 41,
   "metadata": {},
   "outputs": [
    {
     "name": "stdout",
     "output_type": "stream",
     "text": [
      "1 validation error for ValidatedPIIRedaction\n",
      "response\n",
      "  Value error, Invalid response: The provided transcript is not a valid customer service call transcript. It appears to be a statement about the absence of PII rather than an actual transcript of a conversation. A proper transcript should contain a dialogue between a customer service representative and a customer, including their exchanges and any relevant context. Without an actual transcript to review, it's impossible to verify if PII has been correctly redacted. [type=value_error, input_value=\"Transcript:\\n\\nThere's n...n the given transcript.\", input_type=str]\n",
      "    For further information visit https://errors.pydantic.dev/2.8/v/value_error\n"
     ]
    }
   ],
   "source": [
    "pii_prompt = \"\"\"\n",
    "Given a customer service call transcript, validate if the transcript has correctly been redacted of any Personally Identifiable Information (PII).\n",
    "If there is any PII found, or the transcript is otherwise invalid or truncated, reject the response.\n",
    "\"\"\"\n",
    "\n",
    "class ValidatedPIIRedaction(BaseModel):\n",
    "    response: str\n",
    "    \n",
    "    @field_validator(\"response\")\n",
    "    def validate_redacted_pii(cls, v):\n",
    "        return validate_response(v, pii_prompt)\n",
    "    \n",
    "with open(\"data/transcript_redacted_3.txt\", \"r\") as file:\n",
    "    transcript = file.read()\n",
    "    \n",
    "try:\n",
    "    res = ValidatedPIIRedaction(response=transcript)\n",
    "    print(\"PII validation passed\")\n",
    "except Exception as e:\n",
    "    print(e)"
   ]
  }
 ],
 "metadata": {
  "kernelspec": {
   "display_name": ".venv",
   "language": "python",
   "name": "python3"
  },
  "language_info": {
   "codemirror_mode": {
    "name": "ipython",
    "version": 3
   },
   "file_extension": ".py",
   "mimetype": "text/x-python",
   "name": "python",
   "nbconvert_exporter": "python",
   "pygments_lexer": "ipython3",
   "version": "3.12.4"
  }
 },
 "nbformat": 4,
 "nbformat_minor": 2
}
